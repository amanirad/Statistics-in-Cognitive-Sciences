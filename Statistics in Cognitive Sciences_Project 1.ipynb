{
 "cells": [
  {
   "cell_type": "markdown",
   "metadata": {},
   "source": [
    "# Recall data from short-term memory\n"
   ]
  },
  {
   "cell_type": "markdown",
   "metadata": {},
   "source": [
    "Saul Sternberg ran a simple, famous, and important study that examined how people recall data from short-term memory. He briefly presented a comparison set of one, three, or five digits on a screen in front of the subject. Shortly after each presentation he flashed a single test digit on the screen and required the subject to push one button (the positive button) if the test digit had been included in the comparison set or another button (the negative button) if the test digit had not been part of the comparison set. For example, the two stimuli might look like this:\n",
    "\n",
    " Comparison  $\\;\\;\\;\\;\\;\\;$    2 7 4 8 1 \n",
    " \n",
    " Test        $\\;\\;\\;\\;\\;\\;\\;\\;\\;\\;\\;\\;$        5\n",
    " \n",
    "(Remember, the two sets of stimuli were presented sequentially, not simultaneously, so only one of those lines was visible at a time.) The numeral “5” was not part of the comparison set, and the subject should have responded by pressing the negative button. \n",
    "\n",
    "Sternberg measured the time, in hundredths of a second, that the subject took to respond. This process was repeated over many randomly organized trials. Because Sternberg was interested in how people process information, he was interested in how reaction times varied as a function of the number of digits in the comparison set and as a function of whether the test digit was a positive or negative instance for that set. \n",
    "\n",
    "The data in the followin table were collected in an experiment \n",
    "\n",
    "<img src=\"files/p1.png\" width=\"600\"/>\n",
    "\n",
    "Also, the data are found in RxTime.dat here (https://www.uvm.edu/~statdhtx/methods8/DataFiles/Tab2-1.dat ).\n",
    "\n",
    "1. Plot ungrouped as well as grouped frequency distribution for these data.\n",
    "2. Create the histogram for the data using a reasonable number of intervals. Fit the probability density of each condition on the data.\n",
    "3. Plot ungrouped as well as grouped boxplot for these data.\n",
    "4. Discuss the statistical summary of the data in each condition in the form of statistics of mean, standard deviation, median, quantiles, etc.\n",
    "5. Does this data include outliers? Should they be removed? How? Remove them if necessary.\n",
    "6. Check the normality of the data using: \n",
    " 1. Find and plot a sampling distribution using a selection of samples such as 50 with sample size equals to 5 from the data in the table above.  \n",
    "    1. Compare the means and the standard deviations for the distribution of digits in main data and the sampling distribution of the mean.\n",
    "    2. What would the Central Limit Theorem lead you to expect in this situation?\n",
    "    3. Do the data correspond to what you would predict?\n",
    "    4. In what way would the result differ if you had drawn more samples of size 5?\n",
    "    5. In what way would the result differ if you had drawn 50 samples of size 15?\n",
    " 2. Check out the QQ plot. \n",
    " 3. Use the appropriate statistical test and check its p-value and discuss it. What is the null hypothesis? Outline the hypothesis-testing procedure that you have just applied. Compute 95% confidence llimit on mean (or median).\n",
    "7. Is the data distribution symmetrical? Examine and discuss it using an appropriate statistical test.\n",
    "8. Sternberg ran his study to investigate whether people process information simultaneously or sequentially. He reasoned that if they process information simultaneously, they would compare the test stimulus against all digits in the comparison stimulus at the same time, and the time to decide whether a digit was part of the comparison set would not depend on how many digits were in the comparison. If people process information sequentially, the time to come to a decision would increase with the number of digits in the comparison. What is the best research hypothesis here? What is the null hypothesis? Choose the appropriate statistical tests to examine the hypothesis in details (post hoc tests, effect size measures and etc.) and report (interpret) on the results. \n",
    "9. In this experiment, is there a linear or non-linear relationship between the response times of the three conditions? Based on which one can make a significant prediction of another response time? (Use appropriate regression, statistical tests, R^2, etc.) Was performance improving significantly over trials? Can we assume that there is no systematic linear trend over time?"
   ]
  },
  {
   "cell_type": "code",
   "execution_count": null,
   "metadata": {},
   "outputs": [],
   "source": []
  }
 ],
 "metadata": {
  "kernelspec": {
   "display_name": "R",
   "language": "R",
   "name": "ir"
  },
  "language_info": {
   "codemirror_mode": "r",
   "file_extension": ".r",
   "mimetype": "text/x-r-source",
   "name": "R",
   "pygments_lexer": "r",
   "version": "3.6.3"
  }
 },
 "nbformat": 4,
 "nbformat_minor": 2
}
